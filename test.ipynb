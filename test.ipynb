{
 "cells": [
  {
   "cell_type": "markdown",
   "id": "1e2b9408",
   "metadata": {},
   "source": [
    "# this is a test file\n",
    "1. esc,m -> Markdown Cell\n",
    "2. esc,y -> code cell\n",
    "3. shift+enter -> execute cell"
   ]
  },
  {
   "cell_type": "code",
   "execution_count": null,
   "id": "2f0d9e27",
   "metadata": {},
   "outputs": [],
   "source": [
    "import matplotlib.pyplot as plt"
   ]
  },
  {
   "cell_type": "code",
   "execution_count": null,
   "id": "8c490c55",
   "metadata": {},
   "outputs": [],
   "source": []
  }
 ],
 "metadata": {
  "kernelspec": {
   "display_name": "Adv_Python_1130",
   "language": "python",
   "name": "python3"
  },
  "language_info": {
   "codemirror_mode": {
    "name": "ipython",
    "version": 3
   },
   "file_extension": ".py",
   "mimetype": "text/x-python",
   "name": "python",
   "nbconvert_exporter": "python",
   "pygments_lexer": "ipython3",
   "version": "3.13.3"
  }
 },
 "nbformat": 4,
 "nbformat_minor": 5
}
